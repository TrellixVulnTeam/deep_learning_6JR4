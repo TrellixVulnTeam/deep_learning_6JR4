{
 "cells": [
  {
   "cell_type": "code",
   "execution_count": 1,
   "metadata": {
    "ExecuteTime": {
     "end_time": "2019-01-09T12:49:59.522095Z",
     "start_time": "2019-01-09T12:49:58.940283Z"
    },
    "collapsed": true
   },
   "outputs": [],
   "source": [
    "import os\n",
    "import torch\n",
    "import torch.distributed as dist\n",
    "import torch.nn as nn\n",
    "import torch.nn.functional as F\n",
    "import torch.optim as optim\n",
    "\n",
    "from math import ceil\n",
    "from random import Random\n",
    "from torch.multiprocessing import Process\n",
    "from torch.autograd import Variable\n",
    "from torchvision import datasets, transforms"
   ]
  },
  {
   "cell_type": "code",
   "execution_count": 55,
   "metadata": {
    "ExecuteTime": {
     "end_time": "2019-01-10T01:35:44.658771Z",
     "start_time": "2019-01-10T01:35:44.472490Z"
    },
    "collapsed": true
   },
   "outputs": [],
   "source": [
    "class Partition(object):\n",
    "    \"\"\" Dataset-like object, but only access a subset of it. \"\"\"\n",
    "\n",
    "    def __init__(self, data, index):\n",
    "        self.data = data\n",
    "        self.index = index\n",
    "\n",
    "    def __len__(self):\n",
    "        return len(self.index)\n",
    "\n",
    "    def __getitem__(self, index):\n",
    "        data_idx = self.index[index]\n",
    "        return self.data[data_idx]\n",
    "\n",
    "\n",
    "class DataPartitioner(object):\n",
    "    \"\"\" Partitions a dataset into different chuncks. \"\"\"\n",
    "\n",
    "    def __init__(self, data, sizes=[0.7, 0.2, 0.1], seed=1234):\n",
    "        self.data = data\n",
    "        self.partitions = []\n",
    "        rng = Random()\n",
    "        rng.seed(seed)\n",
    "        data_len = len(data)\n",
    "        indexes = [x for x in range(0, data_len)]\n",
    "        rng.shuffle(indexes)\n",
    "\n",
    "        for frac in sizes:\n",
    "            part_len = int(frac * data_len)\n",
    "            self.partitions.append(indexes[0:part_len])\n",
    "            indexes = indexes[part_len:]\n",
    "\n",
    "    def use(self, partition):\n",
    "        return Partition(self.data, self.partitions[partition])\n",
    "\n",
    "class Net(nn.Module):\n",
    "    \"\"\" Network architecture. \"\"\"\n",
    "\n",
    "    def __init__(self):\n",
    "        super(Net, self).__init__()\n",
    "        self.conv1 = nn.Conv2d(1, 10, kernel_size=5)\n",
    "        self.conv2 = nn.Conv2d(10, 20, kernel_size=5)\n",
    "        self.conv2_drop = nn.Dropout2d()\n",
    "        self.fc1 = nn.Linear(320, 50)\n",
    "        self.fc2 = nn.Linear(50, 10)\n",
    "\n",
    "    def forward(self, x):\n",
    "        x = F.relu(F.max_pool2d(self.conv1(x), 2))\n",
    "        x = F.relu(F.max_pool2d(self.conv2_drop(self.conv2(x)), 2))\n",
    "        x = x.view(-1, 320)\n",
    "        x = F.relu(self.fc1(x))\n",
    "        x = F.dropout(x, training=self.training)\n",
    "        x = self.fc2(x)\n",
    "        return F.log_softmax(x)\n",
    "\n",
    "def partition_dataset():\n",
    "    \"\"\" Partitioning MNIST \"\"\"\n",
    "    dataset = datasets.MNIST(\n",
    "        root='data/',\n",
    "        train=True,\n",
    "        download=False,\n",
    "        transform=transforms.Compose([\n",
    "            transforms.ToTensor(),\n",
    "            transforms.Normalize((0.1307, ), (0.3081, ))\n",
    "        ]))\n",
    "    size = dist.get_world_size()\n",
    "    bsz = 128 / float(size)\n",
    "    partition_sizes = [1.0 / size for _ in range(size)]\n",
    "    partition = DataPartitioner(dataset, partition_sizes)\n",
    "    partition = partition.use(dist.get_rank())\n",
    "    train_set = torch.utils.data.DataLoader(\n",
    "        partition, batch_size=int(bsz), shuffle=True)\n",
    "    return train_set, bsz\n",
    "\n",
    "def average_gradients(model):\n",
    "    \"\"\" Gradient averaging. \"\"\"\n",
    "    size = float(dist.get_world_size())\n",
    "    for param in model.parameters():\n",
    "        dist.all_reduce(param.grad.data, op=dist.reduce_op.SUM, group=0)\n",
    "        param.grad.data /= size\n",
    "\n",
    "def run(rank, size):\n",
    "    \"\"\" Distributed Synchronous SGD Example \"\"\"\n",
    "    torch.manual_seed(1234)\n",
    "    train_set, bsz = partition_dataset()\n",
    "    model = Net()\n",
    "    model = model\n",
    "#    model = model.cuda(rank)\n",
    "    optimizer = optim.SGD(model.parameters(), lr=0.01, momentum=0.5)\n",
    "\n",
    "    num_batches = ceil(len(train_set.dataset) / float(bsz))\n",
    "    for epoch in range(10):\n",
    "        epoch_loss = 0.0\n",
    "        for data, target in train_set:\n",
    "            data, target = Variable(data), Variable(target)\n",
    "#            data, target = Variable(data.cuda(rank)), Variable(target.cuda(rank))\n",
    "            optimizer.zero_grad()\n",
    "            output = model(data)\n",
    "            loss = F.nll_loss(output, target)\n",
    "            epoch_loss += loss.data.item() # tensor(4.5000)转成numpy的4.5\n",
    "            loss.backward()\n",
    "            average_gradients(model)\n",
    "            optimizer.step()\n",
    "        print('CPU ',\n",
    "              dist.get_rank(), ', epoch ', epoch, ', ',\n",
    "              'trian loss ', epoch_loss.data.numpy() / num_batches)"
   ]
  },
  {
   "cell_type": "code",
   "execution_count": 58,
   "metadata": {
    "ExecuteTime": {
     "end_time": "2019-01-10T01:35:58.368026Z",
     "start_time": "2019-01-10T01:35:58.362347Z"
    },
    "collapsed": true
   },
   "outputs": [],
   "source": [
    "def init_processes(rank, size, fn, backend='tcp'):\n",
    "    \"\"\" Initialize the distributed environment. \"\"\"\n",
    "    os.environ['MASTER_ADDR'] = '127.0.0.1'\n",
    "    os.environ['MASTER_PORT'] = '29500'\n",
    "    dist.init_process_group(backend, rank=rank, world_size=size)\n",
    "    fn(rank, size)"
   ]
  },
  {
   "cell_type": "code",
   "execution_count": 59,
   "metadata": {
    "ExecuteTime": {
     "end_time": "2019-01-10T01:41:28.658625Z",
     "start_time": "2019-01-10T01:35:58.780995Z"
    },
    "scrolled": true
   },
   "outputs": [
    {
     "name": "stderr",
     "output_type": "stream",
     "text": [
      "/opt/algor/zhoubin/anaconda3/lib/python3.6/site-packages/ipykernel_launcher.py:54: UserWarning: Implicit dimension choice for log_softmax has been deprecated. Change the call to include dim=X as an argument.\n",
      "/opt/algor/zhoubin/anaconda3/lib/python3.6/site-packages/ipykernel_launcher.py:100: UserWarning: invalid index of a 0-dim tensor. This will be an error in PyTorch 0.5. Use tensor.item() to convert a 0-dim tensor to a Python number\n",
      "/opt/algor/zhoubin/anaconda3/lib/python3.6/site-packages/ipykernel_launcher.py:54: UserWarning: Implicit dimension choice for log_softmax has been deprecated. Change the call to include dim=X as an argument.\n",
      "/opt/algor/zhoubin/anaconda3/lib/python3.6/site-packages/ipykernel_launcher.py:100: UserWarning: invalid index of a 0-dim tensor. This will be an error in PyTorch 0.5. Use tensor.item() to convert a 0-dim tensor to a Python number\n"
     ]
    },
    {
     "name": "stdout",
     "output_type": "stream",
     "text": [
      "CPU  0 , epoch  0 ,  trian loss  1.3098469878564765\n",
      "CPU  1 , epoch  0 ,  trian loss  1.306282482675906\n",
      "CPU  1 , epoch  1 ,  trian loss  0.5369825546167044\n",
      "CPU  0 , epoch  1 ,  trian loss  0.5427322225021655\n",
      "CPU  1 , epoch  2 ,  trian loss  0.42255146213686035\n",
      "CPU  0 , epoch  2 ,  trian loss  0.43399929542785515\n",
      "CPU  0 , epoch  3 ,  trian loss  0.36311379373709024\n",
      "CPU  1 , epoch  3 ,  trian loss  0.3568102871177039\n",
      "CPU  0 , epoch  4 ,  trian loss  0.31704591535556037\n",
      "CPU  1 , epoch  4 ,  trian loss  0.3190948876744903\n",
      "CPU  1 , epoch  5 ,  trian loss  0.2866672930686967\n",
      "CPU  0 , epoch  5 ,  trian loss  0.2919410103673874\n",
      "CPU  0 , epoch  6 ,  trian loss  0.2659025049921292\n",
      "CPU  1 , epoch  6 ,  trian loss  0.2675688200667977\n",
      "CPU  0 , epoch  7 ,  trian loss  0.2538931873053122\n",
      "CPU  1 , epoch  7 ,  trian loss  0.2519818694352595\n",
      "CPU  0 , epoch  8 ,  trian loss  0.24273240795013493\n",
      "CPU  1 , epoch  8 ,  trian loss  0.23500510014450626\n",
      "CPU  0 , epoch  9 ,  trian loss  0.23236726545321662\n",
      "CPU  1 , epoch  9 ,  trian loss  0.22668328519060668\n"
     ]
    }
   ],
   "source": [
    "if __name__ == \"__main__\":\n",
    "    size = 2\n",
    "    processes = []\n",
    "    for rank in range(size):\n",
    "        p = Process(target=init_processes, args=(rank, size, run))\n",
    "        p.start()\n",
    "        processes.append(p)\n",
    "\n",
    "    for p in processes:\n",
    "        p.join()"
   ]
  },
  {
   "cell_type": "code",
   "execution_count": null,
   "metadata": {
    "collapsed": true
   },
   "outputs": [],
   "source": [
    ""
   ]
  }
 ],
 "metadata": {
  "kernelspec": {
   "display_name": "Python 3",
   "language": "python",
   "name": "python3"
  },
  "language_info": {
   "codemirror_mode": {
    "name": "ipython",
    "version": 3.0
   },
   "file_extension": ".py",
   "mimetype": "text/x-python",
   "name": "python",
   "nbconvert_exporter": "python",
   "pygments_lexer": "ipython3",
   "version": "3.6.1"
  }
 },
 "nbformat": 4,
 "nbformat_minor": 0
}