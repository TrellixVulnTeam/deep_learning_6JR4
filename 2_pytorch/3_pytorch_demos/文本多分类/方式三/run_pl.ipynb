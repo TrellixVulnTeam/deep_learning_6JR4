{
 "cells": [
  {
   "cell_type": "markdown",
   "metadata": {},
   "source": [
    "## pytorch-lighting版本的训练方式"
   ]
  },
  {
   "cell_type": "markdown",
   "metadata": {},
   "source": [
    "torch version: 1.7.1+cu101\n",
    "pytorch_lightning version: 1.2.7"
   ]
  },
  {
   "cell_type": "code",
   "execution_count": 1,
   "metadata": {},
   "outputs": [
    {
     "data": {
      "text/plain": [
       "'1.2.7'"
      ]
     },
     "execution_count": 1,
     "metadata": {},
     "output_type": "execute_result"
    }
   ],
   "source": [
    "import pytorch_lightning as pl\n",
    "pl.__version__"
   ]
  },
  {
   "cell_type": "code",
   "execution_count": 3,
   "metadata": {},
   "outputs": [],
   "source": [
    "# config.py\n",
    "import transformers\n",
    "\n",
    "class config:\n",
    "    max_len = 32 # 即pad_size\n",
    "    N_EPOCHS = 3\n",
    "    LEARNING_RATE = 3e-6\n",
    "    BERT_PATH = './pretrain/bert-base-chinese'\n",
    "    TOKENIZER = transformers.BertTokenizer.from_pretrained(BERT_PATH)\n",
    "    num_labels = 10\n",
    "    save_dir = './lightningloss_test'"
   ]
  },
  {
   "cell_type": "code",
   "execution_count": 4,
   "metadata": {},
   "outputs": [],
   "source": [
    "# dataset.py\n",
    "import torch\n",
    "def tokenizering(tokenizer, input, max_len, return_type=None):\n",
    "    return tokenizer.encode_plus(\n",
    "        text = input,\n",
    "        max_length = max_len,\n",
    "        padding = 'max_length',\n",
    "        truncation = 'only_first',\n",
    "        return_tensors = return_type\n",
    "    )\n",
    "\n",
    "#类似from torch.utils.data import dataset 里面的dataset实现\n",
    "class Dataset:\n",
    "    def __init__(self, data):\n",
    "        self.data = data\n",
    "        self.tokenizer = config.TOKENIZER\n",
    "        self.max_len = config.max_len# pad size\n",
    "    def __len__(self):\n",
    "        return len(self.data)\n",
    "    def __getitem__(self, item):\n",
    "        item = self.data[item]\n",
    "        text = item[0]\n",
    "        target = item[1]\n",
    "        inputs = tokenizering(self.tokenizer, text, self.max_len, return_type=None)\n",
    "        ids = inputs['input_ids']\n",
    "        masks = inputs['attention_mask']\n",
    "        token_type_ids = inputs['token_type_ids']\n",
    "        return {'input_ids': torch.tensor(ids, dtype=torch.long),\n",
    "                'token_type_ids':torch.tensor(token_type_ids, dtype=torch.long),\n",
    "               'attention_mask':torch.tensor(masks, dtype=torch.long),\n",
    "               'labels':torch.tensor(int(target), dtype=torch.long)} # 因为BertForSequenceClassification要求的forward输入是这样的，所以处理成这种字典格式；其他的模型不一定都是这样"
   ]
  },
  {
   "cell_type": "code",
   "execution_count": 5,
   "metadata": {},
   "outputs": [],
   "source": [
    "with open('THUCNews/data/train.txt', 'r', encoding='UTF-8') as f:\n",
    "    data = [(x.strip().split('\\t')) for x in f.readlines() if x.strip()]\n",
    "train_dataset = Dataset(data)\n",
    "with open('THUCNews/data/dev.txt', 'r', encoding='UTF-8') as f:\n",
    "    data = [(x.strip().split('\\t')) for x in f.readlines() if x.strip()]\n",
    "val_dataset = Dataset(data)"
   ]
  },
  {
   "cell_type": "code",
   "execution_count": 6,
   "metadata": {},
   "outputs": [],
   "source": [
    "# model.py\n",
    "from transformers import BertForSequenceClassification\n",
    "from pytorch_lightning import LightningModule\n",
    "from transformers import AdamW\n",
    "\n",
    "class LightningModel(LightningModule):\n",
    "    def __init__(self, BASE_MODEL_PATH, num_labels):\n",
    "        super(LightningModel, self).__init__()\n",
    "        self.model = BertForSequenceClassification.from_pretrained(BASE_MODEL_PATH, num_labels=num_labels)\n",
    "        \n",
    "    def forward(self, *args, **kwargs):\n",
    "        return self.model(*args, **kwargs)\n",
    "    \n",
    "    def configure_optimizers(self):\n",
    "        return AdamW(self.model.parameters(), lr = config.LEARNING_RATE)\n",
    "    \n",
    "    def training_step(self, batch, batch_idx):\n",
    "        outputs = self(**batch)\n",
    "        loss, logits = outputs.loss, outputs.logits\n",
    "         # acc\n",
    "        targets = batch['labels']\n",
    "        train_acc = torch.tensor(torch.eq(logits.argmax(dim=1), targets).sum().float().item() / targets.size(0))\n",
    "        \n",
    "        self.log(\n",
    "            'train_loss',\n",
    "            loss,\n",
    "            prog_bar=True,\n",
    "            logger=True,\n",
    "            on_step=True,\n",
    "            on_epoch=True\n",
    "        )\n",
    "        return {'loss': loss, 'acc':train_acc}\n",
    "    \n",
    "    def training_epoch_end(self,training_step_outputs):\n",
    "        loss, acc = self.calculate_metrics(training_step_outputs)\n",
    "        print(f'Epoch: {self.current_epoch:2}')\n",
    "        print(f' Train_loss: {loss:.3f}  | Train_acc: {acc*100:.2f}%')\n",
    "    \n",
    "    def validation_step(self, batch, batch_idx):\n",
    "        outputs = self(**batch)\n",
    "        loss, logits = outputs.loss, outputs.logits\n",
    "         # acc\n",
    "        targets = batch['labels']\n",
    "        val_acc = torch.tensor(torch.eq(logits.argmax(dim=1), targets).sum().float().item() / targets.size(0))\n",
    "        \n",
    "        self.log(\n",
    "            'val_loss',\n",
    "            loss,\n",
    "            prog_bar=True,\n",
    "            logger=True,\n",
    "            on_step=True,\n",
    "            on_epoch=True\n",
    "        )\n",
    "        return {'loss': loss, 'acc':val_acc}\n",
    "    \n",
    "    def validation_epoch_end(self,validation_step_outputs):\n",
    "        loss, acc = self.calculate_metrics(validation_step_outputs)\n",
    "        print(f' valid_loss: {loss:.3f} | valid_acc: {acc*100:.2f}%')\n",
    "    \n",
    "    def calculate_metrics(self, step_outputs):\n",
    "        loss = torch.mean(torch.stack([x['loss'] for x in step_outputs]))\n",
    "        acc = torch.mean(torch.stack([x['acc'] for x in step_outputs]))\n",
    "        return loss, acc"
   ]
  },
  {
   "cell_type": "code",
   "execution_count": 7,
   "metadata": {},
   "outputs": [
    {
     "name": "stderr",
     "output_type": "stream",
     "text": [
      "Some weights of the model checkpoint at ./pretrain/bert-base-chinese were not used when initializing BertForSequenceClassification: ['cls.predictions.bias', 'cls.predictions.transform.dense.weight', 'cls.predictions.transform.dense.bias', 'cls.predictions.decoder.weight', 'cls.seq_relationship.weight', 'cls.seq_relationship.bias', 'cls.predictions.transform.LayerNorm.weight', 'cls.predictions.transform.LayerNorm.bias']\n",
      "- This IS expected if you are initializing BertForSequenceClassification from the checkpoint of a model trained on another task or with another architecture (e.g. initializing a BertForSequenceClassification model from a BertForPreTraining model).\n",
      "- This IS NOT expected if you are initializing BertForSequenceClassification from the checkpoint of a model that you expect to be exactly identical (initializing a BertForSequenceClassification model from a BertForSequenceClassification model).\n",
      "Some weights of BertForSequenceClassification were not initialized from the model checkpoint at ./pretrain/bert-base-chinese and are newly initialized: ['classifier.weight', 'classifier.bias']\n",
      "You should probably TRAIN this model on a down-stream task to be able to use it for predictions and inference.\n",
      "GPU available: True, used: True\n",
      "TPU available: False, using: 0 TPU cores\n",
      "Missing logger folder: ./lightningloss_test\\bert-base-chinese\n",
      "LOCAL_RANK: 0 - CUDA_VISIBLE_DEVICES: [0]\n"
     ]
    },
    {
     "name": "stdout",
     "output_type": "stream",
     "text": [
      "./lightningloss_test\\bert-base-chinese\\version_0\n"
     ]
    },
    {
     "name": "stderr",
     "output_type": "stream",
     "text": [
      "\n",
      "  | Name  | Type                          | Params\n",
      "--------------------------------------------------------\n",
      "0 | model | BertForSequenceClassification | 102 M \n",
      "--------------------------------------------------------\n",
      "102 M     Trainable params\n",
      "0         Non-trainable params\n",
      "102 M     Total params\n",
      "409.101   Total estimated model params size (MB)\n",
      "C:\\Users\\w10\\AppData\\Roaming\\Python\\Python37\\site-packages\\pytorch_lightning\\utilities\\distributed.py:52: UserWarning: Your val_dataloader has `shuffle=True`, it is best practice to turn this off for validation and test dataloaders.\n",
      "  warnings.warn(*args, **kwargs)\n"
     ]
    },
    {
     "data": {
      "application/vnd.jupyter.widget-view+json": {
       "model_id": "",
       "version_major": 2,
       "version_minor": 0
      },
      "text/plain": [
       "Validation sanity check: 0it [00:00, ?it/s]"
      ]
     },
     "metadata": {},
     "output_type": "display_data"
    },
    {
     "name": "stdout",
     "output_type": "stream",
     "text": [
      " valid_loss: 2.492 | valid_acc: 7.81%\n"
     ]
    },
    {
     "data": {
      "application/vnd.jupyter.widget-view+json": {
       "model_id": "065be3ebc88b42c8aed4e0c7c1cb9838",
       "version_major": 2,
       "version_minor": 0
      },
      "text/plain": [
       "Training: 0it [00:00, ?it/s]"
      ]
     },
     "metadata": {},
     "output_type": "display_data"
    },
    {
     "name": "stderr",
     "output_type": "stream",
     "text": [
      "C:\\Users\\w10\\AppData\\Roaming\\Python\\Python37\\site-packages\\pytorch_lightning\\utilities\\distributed.py:52: UserWarning: Detected KeyboardInterrupt, attempting graceful shutdown...\n",
      "  warnings.warn(*args, **kwargs)\n"
     ]
    }
   ],
   "source": [
    "# train.py\n",
    "from torch.utils.data import DataLoader\n",
    "from pytorch_lightning import Trainer\n",
    "from pytorch_lightning.loggers import TensorBoardLogger\n",
    "from pytorch_lightning.callbacks import EarlyStopping\n",
    "from pytorch_lightning.callbacks import ModelCheckpoint\n",
    "from collections import OrderedDict\n",
    "\n",
    "def train(base_model_path, save_directory, train_dataset, val_dataset, batch_size, lr, epochs, num_labels):\n",
    "    train_dataloaders = DataLoader(train_dataset, batch_size=batch_size, shuffle=True, num_workers=0)\n",
    "    val_dataloaders = DataLoader(val_dataset, batch_size=batch_size, shuffle=True, num_workers=0)\n",
    "    LTmodel = LightningModel(base_model_path, num_labels)\n",
    "#     checkpoint_callback = ModelCheckpoint(monitor=\"val_acc\") \n",
    "    logger = TensorBoardLogger(\n",
    "        save_dir=save_directory,\n",
    "        name=base_model_path.split('/')[-1]\n",
    "    )\n",
    "    trainer = Trainer(\n",
    "        logger = logger,\n",
    "#         callbacks=[checkpoint_callback],\n",
    "        min_epochs = 1,\n",
    "        max_epochs = epochs,\n",
    "        gpus = [0]\n",
    "    )\n",
    "    print(trainer.logger.log_dir)\n",
    "    trainer.fit(\n",
    "        LTmodel,\n",
    "        train_dataloader = train_dataloaders,\n",
    "        val_dataloaders = val_dataloaders\n",
    "    )\n",
    "    \n",
    "train(config.BERT_PATH, config.save_dir, train_dataset, val_dataset, 128, config.LEARNING_RATE, config.N_EPOCHS, config.num_labels)"
   ]
  },
  {
   "cell_type": "code",
   "execution_count": null,
   "metadata": {},
   "outputs": [],
   "source": []
  },
  {
   "cell_type": "code",
   "execution_count": null,
   "metadata": {},
   "outputs": [],
   "source": []
  },
  {
   "cell_type": "code",
   "execution_count": null,
   "metadata": {},
   "outputs": [],
   "source": []
  },
  {
   "cell_type": "code",
   "execution_count": null,
   "metadata": {},
   "outputs": [],
   "source": []
  },
  {
   "cell_type": "code",
   "execution_count": null,
   "metadata": {},
   "outputs": [],
   "source": []
  },
  {
   "cell_type": "code",
   "execution_count": null,
   "metadata": {},
   "outputs": [],
   "source": []
  },
  {
   "cell_type": "code",
   "execution_count": null,
   "metadata": {},
   "outputs": [],
   "source": []
  },
  {
   "cell_type": "code",
   "execution_count": null,
   "metadata": {},
   "outputs": [],
   "source": []
  }
 ],
 "metadata": {
  "kernelspec": {
   "display_name": "Python 3",
   "language": "python",
   "name": "python3"
  },
  "language_info": {
   "codemirror_mode": {
    "name": "ipython",
    "version": 3
   },
   "file_extension": ".py",
   "mimetype": "text/x-python",
   "name": "python",
   "nbconvert_exporter": "python",
   "pygments_lexer": "ipython3",
   "version": "3.7.4"
  }
 },
 "nbformat": 4,
 "nbformat_minor": 2
}
